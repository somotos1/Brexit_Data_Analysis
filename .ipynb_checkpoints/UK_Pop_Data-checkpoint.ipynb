{
 "cells": [
  {
   "cell_type": "code",
   "execution_count": 68,
   "metadata": {},
   "outputs": [
    {
     "data": {
      "text/html": [
       "<div>\n",
       "<style scoped>\n",
       "    .dataframe tbody tr th:only-of-type {\n",
       "        vertical-align: middle;\n",
       "    }\n",
       "\n",
       "    .dataframe tbody tr th {\n",
       "        vertical-align: top;\n",
       "    }\n",
       "\n",
       "    .dataframe thead th {\n",
       "        text-align: right;\n",
       "    }\n",
       "</style>\n",
       "<table border=\"1\" class=\"dataframe\">\n",
       "  <thead>\n",
       "    <tr style=\"text-align: right;\">\n",
       "      <th></th>\n",
       "      <th>Code</th>\n",
       "      <th>Name</th>\n",
       "      <th>Geography1</th>\n",
       "      <th>All ages</th>\n",
       "      <th>0</th>\n",
       "      <th>1</th>\n",
       "      <th>2</th>\n",
       "      <th>3</th>\n",
       "      <th>4</th>\n",
       "      <th>5</th>\n",
       "      <th>...</th>\n",
       "      <th>81</th>\n",
       "      <th>82</th>\n",
       "      <th>83</th>\n",
       "      <th>84</th>\n",
       "      <th>85</th>\n",
       "      <th>86</th>\n",
       "      <th>87</th>\n",
       "      <th>88</th>\n",
       "      <th>89</th>\n",
       "      <th>90</th>\n",
       "    </tr>\n",
       "  </thead>\n",
       "  <tbody>\n",
       "    <tr>\n",
       "      <th>0</th>\n",
       "      <td>K02000001</td>\n",
       "      <td>UNITED KINGDOM</td>\n",
       "      <td>Country</td>\n",
       "      <td>66040229.0</td>\n",
       "      <td>763201.0</td>\n",
       "      <td>789285.0</td>\n",
       "      <td>790680.0</td>\n",
       "      <td>799076.0</td>\n",
       "      <td>818499.0</td>\n",
       "      <td>844567.0</td>\n",
       "      <td>...</td>\n",
       "      <td>355285.0</td>\n",
       "      <td>329024.0</td>\n",
       "      <td>296722.0</td>\n",
       "      <td>272804.0</td>\n",
       "      <td>254442.0</td>\n",
       "      <td>231256.0</td>\n",
       "      <td>204422.0</td>\n",
       "      <td>175064.0</td>\n",
       "      <td>147643.0</td>\n",
       "      <td>579776.0</td>\n",
       "    </tr>\n",
       "    <tr>\n",
       "      <th>1</th>\n",
       "      <td>K03000001</td>\n",
       "      <td>GREAT BRITAIN</td>\n",
       "      <td>Country</td>\n",
       "      <td>64169395.0</td>\n",
       "      <td>739515.0</td>\n",
       "      <td>764552.0</td>\n",
       "      <td>766029.0</td>\n",
       "      <td>774358.0</td>\n",
       "      <td>793286.0</td>\n",
       "      <td>818505.0</td>\n",
       "      <td>...</td>\n",
       "      <td>346497.0</td>\n",
       "      <td>320911.0</td>\n",
       "      <td>289442.0</td>\n",
       "      <td>265920.0</td>\n",
       "      <td>248306.0</td>\n",
       "      <td>225760.0</td>\n",
       "      <td>199669.0</td>\n",
       "      <td>170824.0</td>\n",
       "      <td>144157.0</td>\n",
       "      <td>566733.0</td>\n",
       "    </tr>\n",
       "    <tr>\n",
       "      <th>2</th>\n",
       "      <td>K04000001</td>\n",
       "      <td>ENGLAND AND WALES</td>\n",
       "      <td>Country</td>\n",
       "      <td>58744595.0</td>\n",
       "      <td>685962.0</td>\n",
       "      <td>708660.0</td>\n",
       "      <td>709239.0</td>\n",
       "      <td>716997.0</td>\n",
       "      <td>734776.0</td>\n",
       "      <td>758504.0</td>\n",
       "      <td>...</td>\n",
       "      <td>316336.0</td>\n",
       "      <td>293080.0</td>\n",
       "      <td>264304.0</td>\n",
       "      <td>243370.0</td>\n",
       "      <td>227177.0</td>\n",
       "      <td>207325.0</td>\n",
       "      <td>183829.0</td>\n",
       "      <td>157178.0</td>\n",
       "      <td>133116.0</td>\n",
       "      <td>525008.0</td>\n",
       "    </tr>\n",
       "    <tr>\n",
       "      <th>3</th>\n",
       "      <td>E92000001</td>\n",
       "      <td>ENGLAND</td>\n",
       "      <td>Country</td>\n",
       "      <td>55619430.0</td>\n",
       "      <td>653467.0</td>\n",
       "      <td>674807.0</td>\n",
       "      <td>675045.0</td>\n",
       "      <td>682356.0</td>\n",
       "      <td>699250.0</td>\n",
       "      <td>721708.0</td>\n",
       "      <td>...</td>\n",
       "      <td>297652.0</td>\n",
       "      <td>275694.0</td>\n",
       "      <td>248408.0</td>\n",
       "      <td>228736.0</td>\n",
       "      <td>214145.0</td>\n",
       "      <td>195523.0</td>\n",
       "      <td>173368.0</td>\n",
       "      <td>148227.0</td>\n",
       "      <td>125549.0</td>\n",
       "      <td>495244.0</td>\n",
       "    </tr>\n",
       "    <tr>\n",
       "      <th>4</th>\n",
       "      <td>E12000001</td>\n",
       "      <td>NORTH EAST</td>\n",
       "      <td>Region</td>\n",
       "      <td>2644727.0</td>\n",
       "      <td>28036.0</td>\n",
       "      <td>28959.0</td>\n",
       "      <td>28863.0</td>\n",
       "      <td>29691.0</td>\n",
       "      <td>30547.0</td>\n",
       "      <td>31551.0</td>\n",
       "      <td>...</td>\n",
       "      <td>15153.0</td>\n",
       "      <td>14452.0</td>\n",
       "      <td>12825.0</td>\n",
       "      <td>11738.0</td>\n",
       "      <td>10746.0</td>\n",
       "      <td>9869.0</td>\n",
       "      <td>8479.0</td>\n",
       "      <td>6978.0</td>\n",
       "      <td>5775.0</td>\n",
       "      <td>21972.0</td>\n",
       "    </tr>\n",
       "  </tbody>\n",
       "</table>\n",
       "<p>5 rows × 95 columns</p>\n",
       "</div>"
      ],
      "text/plain": [
       "        Code               Name Geography1    All ages         0         1  \\\n",
       "0  K02000001     UNITED KINGDOM    Country  66040229.0  763201.0  789285.0   \n",
       "1  K03000001      GREAT BRITAIN    Country  64169395.0  739515.0  764552.0   \n",
       "2  K04000001  ENGLAND AND WALES    Country  58744595.0  685962.0  708660.0   \n",
       "3  E92000001            ENGLAND    Country  55619430.0  653467.0  674807.0   \n",
       "4  E12000001         NORTH EAST     Region   2644727.0   28036.0   28959.0   \n",
       "\n",
       "          2         3         4         5    ...           81        82  \\\n",
       "0  790680.0  799076.0  818499.0  844567.0    ...     355285.0  329024.0   \n",
       "1  766029.0  774358.0  793286.0  818505.0    ...     346497.0  320911.0   \n",
       "2  709239.0  716997.0  734776.0  758504.0    ...     316336.0  293080.0   \n",
       "3  675045.0  682356.0  699250.0  721708.0    ...     297652.0  275694.0   \n",
       "4   28863.0   29691.0   30547.0   31551.0    ...      15153.0   14452.0   \n",
       "\n",
       "         83        84        85        86        87        88        89  \\\n",
       "0  296722.0  272804.0  254442.0  231256.0  204422.0  175064.0  147643.0   \n",
       "1  289442.0  265920.0  248306.0  225760.0  199669.0  170824.0  144157.0   \n",
       "2  264304.0  243370.0  227177.0  207325.0  183829.0  157178.0  133116.0   \n",
       "3  248408.0  228736.0  214145.0  195523.0  173368.0  148227.0  125549.0   \n",
       "4   12825.0   11738.0   10746.0    9869.0    8479.0    6978.0    5775.0   \n",
       "\n",
       "         90  \n",
       "0  579776.0  \n",
       "1  566733.0  \n",
       "2  525008.0  \n",
       "3  495244.0  \n",
       "4   21972.0  \n",
       "\n",
       "[5 rows x 95 columns]"
      ]
     },
     "execution_count": 68,
     "metadata": {},
     "output_type": "execute_result"
    }
   ],
   "source": [
    "import pandas as pd\n",
    "import numpy as np\n",
    "import os\n",
    "\n",
    "popn_data_17 = pd.read_excel(\"Resources/2017_Popn_Estimates.xls\",skiprows=4,sheet_name=\"MYE2 - All\")\n",
    "popn_data_17.head()"
   ]
  },
  {
   "cell_type": "code",
   "execution_count": 69,
   "metadata": {},
   "outputs": [
    {
     "data": {
      "text/plain": [
       "(443, 95)"
      ]
     },
     "execution_count": 69,
     "metadata": {},
     "output_type": "execute_result"
    }
   ],
   "source": [
    "popn_data_17.shape"
   ]
  },
  {
   "cell_type": "code",
   "execution_count": 70,
   "metadata": {},
   "outputs": [
    {
     "data": {
      "text/plain": [
       "(440, 95)"
      ]
     },
     "execution_count": 70,
     "metadata": {},
     "output_type": "execute_result"
    }
   ],
   "source": [
    "popn_data_17.dropna(inplace=True)\n",
    "popn_data_17.shape"
   ]
  },
  {
   "cell_type": "code",
   "execution_count": 71,
   "metadata": {},
   "outputs": [],
   "source": [
    "def age_aggregator(df,list_of_age_ranges):\n",
    "    \n",
    "    new_df.loc[:, \"Name\"] = df[\"Name\"].copy()\n",
    "    for tup in list_of_age_ranges:\n",
    "        col_name = f\"{tup[0]} - {tup[1]} yrs\"\n",
    "        print(f\"Calculating total age for {col_name}\")\n",
    "        col_list = list(range(tup[0],tup[1]))\n",
    "        df_subset = df[col_list].copy()\n",
    "        df_subset_sum = df_subset.sum(axis=1)\n",
    "        new_df.loc[:, col_name] = df_subset_sum.values\n",
    "    return new_df"
   ]
  },
  {
   "cell_type": "code",
   "execution_count": 72,
   "metadata": {},
   "outputs": [],
   "source": [
    "list_of_age_ranges = [(0,15),(16,30),(31,45),(46,55),(56,65),(66,90)]"
   ]
  },
  {
   "cell_type": "code",
   "execution_count": 73,
   "metadata": {
    "scrolled": true
   },
   "outputs": [
    {
     "name": "stdout",
     "output_type": "stream",
     "text": [
      "Calculating total age for 0 - 15 yrs\n",
      "Calculating total age for 16 - 30 yrs\n",
      "Calculating total age for 31 - 45 yrs\n",
      "Calculating total age for 46 - 55 yrs\n",
      "Calculating total age for 56 - 65 yrs\n",
      "Calculating total age for 66 - 90 yrs\n"
     ]
    },
    {
     "name": "stderr",
     "output_type": "stream",
     "text": [
      "/anaconda3/lib/python3.7/site-packages/ipykernel_launcher.py:9: SettingWithCopyWarning: \n",
      "A value is trying to be set on a copy of a slice from a DataFrame\n",
      "\n",
      "See the caveats in the documentation: http://pandas.pydata.org/pandas-docs/stable/indexing.html#indexing-view-versus-copy\n",
      "  if __name__ == '__main__':\n"
     ]
    }
   ],
   "source": [
    "df_2017 = age_aggregator(popn_data_17,list_of_age_ranges)"
   ]
  },
  {
   "cell_type": "code",
   "execution_count": 74,
   "metadata": {
    "scrolled": true
   },
   "outputs": [
    {
     "data": {
      "text/plain": [
       "0                                                 UNITED KINGDOM\n",
       "1                                                  GREAT BRITAIN\n",
       "2                                              ENGLAND AND WALES\n",
       "3                                                        ENGLAND\n",
       "4                                                     NORTH EAST\n",
       "5                                                  County Durham\n",
       "6                                                     Darlington\n",
       "7                                                     Hartlepool\n",
       "8                                                  Middlesbrough\n",
       "9                                                 Northumberland\n",
       "10                                          Redcar and Cleveland\n",
       "11                                              Stockton-on-Tees\n",
       "12                                    Tyne and Wear (Met County)\n",
       "13                                                     Gateshead\n",
       "14                                           Newcastle upon Tyne\n",
       "15                                                North Tyneside\n",
       "16                                                South Tyneside\n",
       "17                                                    Sunderland\n",
       "18                                                    NORTH WEST\n",
       "19                                         Blackburn with Darwen\n",
       "20                                                     Blackpool\n",
       "21                                                 Cheshire East\n",
       "22                                     Cheshire West and Chester\n",
       "23                                                        Halton\n",
       "24                                                    Warrington\n",
       "25                                                       Cumbria\n",
       "26                                                     Allerdale\n",
       "27                                             Barrow-in-Furness\n",
       "28                                                      Carlisle\n",
       "29                                                      Copeland\n",
       "                                     ...                        \n",
       "416                                               North Ayrshire\n",
       "417                                            North Lanarkshire\n",
       "418                                               Orkney Islands\n",
       "419                                            Perth and Kinross\n",
       "420                                                 Renfrewshire\n",
       "421                                             Scottish Borders\n",
       "422                                             Shetland Islands\n",
       "423                                               South Ayrshire\n",
       "424                                            South Lanarkshire\n",
       "425                                                     Stirling\n",
       "426                                          West Dunbartonshire\n",
       "427                                                 West Lothian\n",
       "428                                             NORTHERN IRELAND\n",
       "429                                      Antrim and Newtownabbey\n",
       "430                                          Ards and North Down\n",
       "431                         Armagh City, Banbridge and Craigavon\n",
       "432                                                      Belfast\n",
       "433                                     Causeway Coast and Glens\n",
       "434                                      Derry City and Strabane\n",
       "435                                          Fermanagh and Omagh\n",
       "436                                      Lisburn and Castlereagh\n",
       "437                                          Mid and East Antrim\n",
       "438                                                   Mid Ulster\n",
       "439                                       Newry, Mourne and Down\n",
       "0 - 15 yrs     0      11807573.0\n",
       "1      11439153.0\n",
       "2      105...\n",
       "16 - 30 yrs    0      11755673.0\n",
       "1      11422034.0\n",
       "2      104...\n",
       "31 - 45 yrs    0      11877485.0\n",
       "1      11538884.0\n",
       "2      105...\n",
       "46 - 55 yrs    0      8347254.0\n",
       "1      8111361.0\n",
       "2      73931...\n",
       "56 - 65 yrs    0      6889348.0\n",
       "1      6695851.0\n",
       "2      60675...\n",
       "66 - 90 yrs    0      10736691.0\n",
       "1      10464777.0\n",
       "2       95...\n",
       "Name: Name, Length: 446, dtype: object"
      ]
     },
     "execution_count": 74,
     "metadata": {},
     "output_type": "execute_result"
    }
   ],
   "source": [
    "new_df"
   ]
  },
  {
   "cell_type": "code",
   "execution_count": 23,
   "metadata": {},
   "outputs": [
    {
     "data": {
      "text/plain": [
       "0      12505357.0\n",
       "1      12114673.0\n",
       "2      11197231.0\n",
       "3      10637971.0\n",
       "4        471260.0\n",
       "5         89899.0\n",
       "6         20144.0\n",
       "7         17786.0\n",
       "8         29130.0\n",
       "9         52204.0\n",
       "10        24532.0\n",
       "11        38819.0\n",
       "12       198746.0\n",
       "13        35388.0\n",
       "14        51630.0\n",
       "15        36658.0\n",
       "16        26481.0\n",
       "17        48589.0\n",
       "18      1382104.0\n",
       "19        34662.0\n",
       "20        25700.0\n",
       "21        67428.0\n",
       "22        60100.0\n",
       "23        25475.0\n",
       "24        39813.0\n",
       "25        82180.0\n",
       "26        16025.0\n",
       "27        11754.0\n",
       "28        19183.0\n",
       "29        11653.0\n",
       "          ...    \n",
       "413       17229.0\n",
       "414       16362.0\n",
       "415        4367.0\n",
       "416       22901.0\n",
       "417       63011.0\n",
       "418        3545.0\n",
       "419       24453.0\n",
       "420       30039.0\n",
       "421       19026.0\n",
       "422        4233.0\n",
       "423       17716.0\n",
       "424       55151.0\n",
       "425       15425.0\n",
       "426       15790.0\n",
       "427       35443.0\n",
       "428      390684.0\n",
       "429       29718.0\n",
       "430       30117.0\n",
       "431       47372.0\n",
       "432       67512.0\n",
       "433       28461.0\n",
       "434       32813.0\n",
       "435       25138.0\n",
       "436       28596.0\n",
       "437       26524.0\n",
       "438       33946.0\n",
       "439       40487.0\n",
       "440           0.0\n",
       "441           0.0\n",
       "442           0.0\n",
       "Length: 443, dtype: float64"
      ]
     },
     "execution_count": 23,
     "metadata": {},
     "output_type": "execute_result"
    }
   ],
   "source": [
    "popn_data_17[list(range(0,16))].sum(axis=1)"
   ]
  },
  {
   "cell_type": "code",
   "execution_count": 15,
   "metadata": {},
   "outputs": [
    {
     "ename": "AttributeError",
     "evalue": "'DataFrame' object has no attribute 'column'",
     "output_type": "error",
     "traceback": [
      "\u001b[0;31m---------------------------------------------------------------------------\u001b[0m",
      "\u001b[0;31mAttributeError\u001b[0m                            Traceback (most recent call last)",
      "\u001b[0;32m<ipython-input-15-386a03a9fab3>\u001b[0m in \u001b[0;36m<module>\u001b[0;34m\u001b[0m\n\u001b[1;32m      1\u001b[0m \u001b[0;32mfor\u001b[0m \u001b[0mrow\u001b[0m \u001b[0;32min\u001b[0m \u001b[0mpopn_data_17\u001b[0m\u001b[0;34m:\u001b[0m\u001b[0;34m\u001b[0m\u001b[0;34m\u001b[0m\u001b[0m\n\u001b[0;32m----> 2\u001b[0;31m     \u001b[0;32mif\u001b[0m \u001b[0mpopn_data_17\u001b[0m\u001b[0;34m.\u001b[0m\u001b[0mcolumn\u001b[0m\u001b[0;34m(\u001b[0m\u001b[0;34m)\u001b[0m \u001b[0;34m==\u001b[0m \u001b[0;34m\"0\"\u001b[0m \u001b[0;32mor\u001b[0m \u001b[0mpopn_data_17\u001b[0m\u001b[0;34m.\u001b[0m\u001b[0mcolumn\u001b[0m\u001b[0;34m(\u001b[0m\u001b[0;34m)\u001b[0m \u001b[0;34m==\u001b[0m \u001b[0;34m\"1\"\u001b[0m\u001b[0;34m:\u001b[0m\u001b[0;34m\u001b[0m\u001b[0;34m\u001b[0m\u001b[0m\n\u001b[0m\u001b[1;32m      3\u001b[0m         \u001b[0mpop_0_to_1\u001b[0m \u001b[0;34m=\u001b[0m \u001b[0mpopn_data_17\u001b[0m\u001b[0;34m[\u001b[0m\u001b[0;34m\"0\"\u001b[0m\u001b[0;34m]\u001b[0m \u001b[0;34m+\u001b[0m \u001b[0mpopn_data_17\u001b[0m\u001b[0;34m[\u001b[0m\u001b[0;34m\"1\"\u001b[0m\u001b[0;34m]\u001b[0m\u001b[0;34m\u001b[0m\u001b[0;34m\u001b[0m\u001b[0m\n\u001b[1;32m      4\u001b[0m     \u001b[0;32melse\u001b[0m\u001b[0;34m:\u001b[0m\u001b[0;34m\u001b[0m\u001b[0;34m\u001b[0m\u001b[0m\n\u001b[1;32m      5\u001b[0m         \u001b[0;32mcontinue\u001b[0m\u001b[0;34m\u001b[0m\u001b[0;34m\u001b[0m\u001b[0m\n",
      "\u001b[0;32m/anaconda3/lib/python3.7/site-packages/pandas/core/generic.py\u001b[0m in \u001b[0;36m__getattr__\u001b[0;34m(self, name)\u001b[0m\n\u001b[1;32m   4374\u001b[0m             \u001b[0;32mif\u001b[0m \u001b[0mself\u001b[0m\u001b[0;34m.\u001b[0m\u001b[0m_info_axis\u001b[0m\u001b[0;34m.\u001b[0m\u001b[0m_can_hold_identifiers_and_holds_name\u001b[0m\u001b[0;34m(\u001b[0m\u001b[0mname\u001b[0m\u001b[0;34m)\u001b[0m\u001b[0;34m:\u001b[0m\u001b[0;34m\u001b[0m\u001b[0;34m\u001b[0m\u001b[0m\n\u001b[1;32m   4375\u001b[0m                 \u001b[0;32mreturn\u001b[0m \u001b[0mself\u001b[0m\u001b[0;34m[\u001b[0m\u001b[0mname\u001b[0m\u001b[0;34m]\u001b[0m\u001b[0;34m\u001b[0m\u001b[0;34m\u001b[0m\u001b[0m\n\u001b[0;32m-> 4376\u001b[0;31m             \u001b[0;32mreturn\u001b[0m \u001b[0mobject\u001b[0m\u001b[0;34m.\u001b[0m\u001b[0m__getattribute__\u001b[0m\u001b[0;34m(\u001b[0m\u001b[0mself\u001b[0m\u001b[0;34m,\u001b[0m \u001b[0mname\u001b[0m\u001b[0;34m)\u001b[0m\u001b[0;34m\u001b[0m\u001b[0;34m\u001b[0m\u001b[0m\n\u001b[0m\u001b[1;32m   4377\u001b[0m \u001b[0;34m\u001b[0m\u001b[0m\n\u001b[1;32m   4378\u001b[0m     \u001b[0;32mdef\u001b[0m \u001b[0m__setattr__\u001b[0m\u001b[0;34m(\u001b[0m\u001b[0mself\u001b[0m\u001b[0;34m,\u001b[0m \u001b[0mname\u001b[0m\u001b[0;34m,\u001b[0m \u001b[0mvalue\u001b[0m\u001b[0;34m)\u001b[0m\u001b[0;34m:\u001b[0m\u001b[0;34m\u001b[0m\u001b[0;34m\u001b[0m\u001b[0m\n",
      "\u001b[0;31mAttributeError\u001b[0m: 'DataFrame' object has no attribute 'column'"
     ]
    }
   ],
   "source": [
    "for row in popn_data_17:\n",
    "    if popn_data_17.column() == \"0\" or popn_data_17.column() == \"1\":\n",
    "        pop_0_to_1 = popn_data_17[\"0\"] + popn_data_17[\"1\"]\n",
    "    else:\n",
    "        continue\n",
    "pop_0_to_1   "
   ]
  },
  {
   "cell_type": "code",
   "execution_count": null,
   "metadata": {},
   "outputs": [],
   "source": [
    "bins = [0,15,25,35,45,55,65,75,100]\n",
    "popn_data_17[\"0-15yrs\"] = popn_data_17.loc(popn_data_17[:].sum() + popn_data_17[]"
   ]
  }
 ],
 "metadata": {
  "kernelspec": {
   "display_name": "Python 3",
   "language": "python",
   "name": "python3"
  },
  "language_info": {
   "codemirror_mode": {
    "name": "ipython",
    "version": 3
   },
   "file_extension": ".py",
   "mimetype": "text/x-python",
   "name": "python",
   "nbconvert_exporter": "python",
   "pygments_lexer": "ipython3",
   "version": "3.6.8"
  },
  "latex_envs": {
   "LaTeX_envs_menu_present": true,
   "autoclose": false,
   "autocomplete": true,
   "bibliofile": "biblio.bib",
   "cite_by": "apalike",
   "current_citInitial": 1,
   "eqLabelWithNumbers": true,
   "eqNumInitial": 1,
   "hotkeys": {
    "equation": "Ctrl-E",
    "itemize": "Ctrl-I"
   },
   "labels_anchors": false,
   "latex_user_defs": false,
   "report_style_numbering": false,
   "user_envs_cfg": false
  }
 },
 "nbformat": 4,
 "nbformat_minor": 2
}
