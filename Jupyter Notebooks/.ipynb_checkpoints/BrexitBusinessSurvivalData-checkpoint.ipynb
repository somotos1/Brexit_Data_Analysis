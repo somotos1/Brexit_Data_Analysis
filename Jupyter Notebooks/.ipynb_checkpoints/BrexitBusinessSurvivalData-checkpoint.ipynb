{
 "cells": [
  {
   "cell_type": "code",
   "execution_count": 5,
   "metadata": {},
   "outputs": [],
   "source": [
    "#dependencies\n",
    "import csv\n",
    "import pandas as pd\n",
    "import matplotlib.pyplot as plt\n",
    "import numpy as np"
   ]
  },
  {
   "cell_type": "code",
   "execution_count": 6,
   "metadata": {},
   "outputs": [],
   "source": [
    "earliest_file = \"../Resources/businessdemography2004-2008.xlsx\"\n",
    "earliest_business_data = pd.read_excel(earliest_file,sheet_name=\"Table 4.2\")\n",
    "earliest_business_data = earliest_business_data.rename(columns={\"TABLE 4.2 - SURVIVAL OF NEWLY BORN ENTERPRISES\":\"Business Sector\",\"Unnamed: 1\":\"Births\",\n",
    "                                             \"Unnamed: 2\":\"1-Year Survival\",\"Unnamed: 3\":\"1-Year Survival %\",\n",
    "                                              \"Unnamed: 4\":\"2-Year Survival\",\"Unnamed: 5\":\"2-Year Survival %\",\n",
    "                                             \"Unnamed: 6\":\"3-Year Survival\",\"Unnamed: 7\":\"3-Year Survival %\",\n",
    "                                              \"Unnamed: 8\":\"4-Year Survival\",\"Unnamed: 9\":\"4-Year Survival %\",\n",
    "                                              \"Unnamed: 10\":\"5-Year Survival\",\"Unnamed: 11\":\"5-Year Survival %\"})\n",
    "\n",
    "\n",
    "\n",
    "early_file = \"../Resources/businessdemographythru2009.xlsx\"\n",
    "early_business_data = pd.read_excel(early_file,sheet_name=\"Table 4.2\")\n",
    "early_business_data = early_business_data.rename(columns={\"Unnamed: 0\":\"Business Sector\",\"Unnamed: 1\":\"Births\",\n",
    "                                             \"Unnamed: 2\":\"1-Year Survival\",\"Unnamed: 3\":\"1-Year Survival %\",\n",
    "                                              \"Unnamed: 4\":\"2-Year Survival\",\"Unnamed: 5\":\"2-Year Survival %\",\n",
    "                                             \"Unnamed: 6\":\"3-Year Survival\",\"Unnamed: 7\":\"3-Year Survival %\",\n",
    "                                              \"Unnamed: 8\":\"4-Year Survival\",\"Unnamed: 9\":\"4-Year Survival %\",\n",
    "                                              \"Unnamed: 10\":\"5-Year Survival\",\"Unnamed: 11\":\"5-Year Survival %\"})\n",
    "\n",
    "\n",
    "mid_early_file = \"../Resources/businessdemographyexceltablesthru2012.xlsx\"\n",
    "mid_early_business_data = pd.read_excel(mid_early_file,sheet_name=\"Table 4.2\")\n",
    "mid_early_business_data = mid_early_business_data.rename(columns={\"TABLE 4.2 - SURVIVAL OF NEWLY BORN ENTERPRISES\":\"Business Sector\",\"Unnamed: 1\":\"Births\",\n",
    "                                             \"Unnamed: 2\":\"1-Year Survival\",\"Unnamed: 3\":\"1-Year Survival %\",\n",
    "                                              \"Unnamed: 4\":\"2-Year Survival\",\"Unnamed: 5\":\"2-Year Survival %\",\n",
    "                                             \"Unnamed: 6\":\"3-Year Survival\",\"Unnamed: 7\":\"3-Year Survival %\",\n",
    "                                              \"Unnamed: 8\":\"4-Year Survival\",\"Unnamed: 9\":\"4-Year Survival %\",\n",
    "                                              \"Unnamed: 10\":\"5-Year Survival\",\"Unnamed: 11\":\"5-Year Survival %\"})\n",
    "\n",
    "\n",
    "\n",
    "mid_file = \"../Resources/businessdemographyexceltablesthru2013.xlsx\"\n",
    "mid_business_data = pd.read_excel(mid_file,sheet_name=\"Table 4.2\")\n",
    "mid_business_data = mid_business_data.rename(columns={\"TABLE 4.2 - SURVIVAL OF NEWLY BORN ENTERPRISES\":\"Business Sector\",\"Unnamed: 1\":\"Births\",\n",
    "                                             \"Unnamed: 2\":\"1-Year Survival\",\"Unnamed: 3\":\"1-Year Survival %\",\n",
    "                                              \"Unnamed: 4\":\"2-Year Survival\",\"Unnamed: 5\":\"2-Year Survival %\",\n",
    "                                             \"Unnamed: 6\":\"3-Year Survival\",\"Unnamed: 7\":\"3-Year Survival %\",\n",
    "                                              \"Unnamed: 8\":\"4-Year Survival\",\"Unnamed: 9\":\"4-Year Survival %\",\n",
    "                                              \"Unnamed: 10\":\"5-Year Survival\",\"Unnamed: 11\":\"5-Year Survival %\"})\n",
    "\n",
    "\n",
    "file = \"../Resources/businessdemographyexceltablesthru2016.xlsx\"\n",
    "business_data = pd.read_excel(file,sheet_name=\"Table 4.2\")\n",
    "business_data = business_data.rename(columns={\"TABLE 4.2 - SURVIVAL OF NEWLY BORN ENTERPRISES\":\"Business Sector\",\"Unnamed: 1\":\"Births\",\n",
    "                                             \"Unnamed: 2\":\"1-Year Survival\",\"Unnamed: 3\":\"1-Year Survival %\",\n",
    "                                              \"Unnamed: 4\":\"2-Year Survival\",\"Unnamed: 5\":\"2-Year Survival %\",\n",
    "                                             \"Unnamed: 6\":\"3-Year Survival\",\"Unnamed: 7\":\"3-Year Survival %\",\n",
    "                                              \"Unnamed: 8\":\"4-Year Survival\",\"Unnamed: 9\":\"4-Year Survival %\",\n",
    "                                              \"Unnamed: 10\":\"5-Year Survival\",\"Unnamed: 11\":\"5-Year Survival %\"})"
   ]
  },
  {
   "cell_type": "code",
   "execution_count": 7,
   "metadata": {},
   "outputs": [],
   "source": [
    "business_data_2016 = business_data.iloc[91:110,0:2]\n",
    "business_data_2016 = business_data_2016.drop([91,92,108])\n",
    "business_data_2016_survival = business_data.iloc[91:110,0:4]\n",
    "business_data_2016_survival = business_data_2016_survival.drop([91,92,108])"
   ]
  },
  {
   "cell_type": "code",
   "execution_count": 8,
   "metadata": {},
   "outputs": [],
   "source": [
    "business_data_2015 = business_data.iloc[70:89,0:2]\n",
    "business_data_2015 = business_data_2015.drop([70,71,87])\n",
    "business_data_2015_survival = business_data.iloc[70:89,0:6]\n",
    "business_data_2015_survival = business_data_2015_survival.drop([70,71,87])"
   ]
  },
  {
   "cell_type": "code",
   "execution_count": 9,
   "metadata": {},
   "outputs": [],
   "source": [
    "business_data_2014 = business_data.iloc[49:68,0:2]\n",
    "business_data_2014 = business_data_2014.drop([49,50,66])\n",
    "business_data_2014_survival = business_data.iloc[49:68,0:8]\n",
    "business_data_2014_survival = business_data_2014_survival.drop([49,50,66])"
   ]
  },
  {
   "cell_type": "code",
   "execution_count": 10,
   "metadata": {},
   "outputs": [],
   "source": [
    "business_data_2013 = business_data.iloc[28:47,0:2]\n",
    "business_data_2013 = business_data_2013.drop([28,29,45])\n",
    "business_data_2013_survival = business_data.iloc[28:47,0:10]\n",
    "business_data_2013_survival = business_data_2013_survival.drop([28,29,45])"
   ]
  },
  {
   "cell_type": "code",
   "execution_count": 11,
   "metadata": {},
   "outputs": [],
   "source": [
    "business_data_2012 = business_data.iloc[7:26,0:2]\n",
    "business_data_2012 = business_data_2012.drop([7,8,24])\n",
    "business_data_2012_survival = business_data.iloc[7:26,0:12]\n",
    "business_data_2012_survival = business_data_2012_survival.drop([7,8,24])"
   ]
  },
  {
   "cell_type": "code",
   "execution_count": 12,
   "metadata": {},
   "outputs": [],
   "source": [
    "business_data_2011 = mid_business_data.iloc[49:68,0:2]\n",
    "business_data_2011 = business_data_2011.drop([49,50,66])\n",
    "business_data_2011_survival = mid_business_data.iloc[49:68,0:8]\n",
    "business_data_2011_survival = business_data_2011_survival.drop([49,50,66])"
   ]
  },
  {
   "cell_type": "code",
   "execution_count": 13,
   "metadata": {},
   "outputs": [],
   "source": [
    "business_data_2010 = mid_business_data.iloc[28:47,0:2]\n",
    "business_data_2010 = business_data_2010.drop([28,29,45])\n",
    "business_data_2010_survival = mid_business_data.iloc[28:47,0:10]\n",
    "business_data_2010_survival = business_data_2010_survival.drop([28,29,45])"
   ]
  },
  {
   "cell_type": "code",
   "execution_count": 14,
   "metadata": {},
   "outputs": [],
   "source": [
    "business_data_2009 = mid_business_data.iloc[7:26,0:2]\n",
    "business_data_2009 = business_data_2009.drop([7,8,24])\n",
    "business_data_2009_survival = mid_business_data.iloc[7:26,0:12]\n",
    "business_data_2009_survival = business_data_2009_survival.drop([7,8,24])"
   ]
  },
  {
   "cell_type": "code",
   "execution_count": 15,
   "metadata": {},
   "outputs": [],
   "source": [
    "business_data_2008 = mid_early_business_data.iloc[7:26,0:2]\n",
    "business_data_2008 = business_data_2008.drop([7,8,24])\n",
    "business_data_2008_survival = mid_early_business_data.iloc[7:26,0:12]\n",
    "business_data_2008_survival = business_data_2008_survival.drop([7,8,24])"
   ]
  },
  {
   "cell_type": "code",
   "execution_count": 16,
   "metadata": {},
   "outputs": [],
   "source": [
    "business_data_2007 = early_business_data.iloc[45:62,0:2]\n",
    "business_data_2007 = business_data_2007.drop([45,46,60])\n",
    "business_data_2007_survival = early_business_data.iloc[45:62,0:8]\n",
    "business_data_2007_survival = business_data_2007_survival.drop([45,46,60])"
   ]
  },
  {
   "cell_type": "code",
   "execution_count": 17,
   "metadata": {},
   "outputs": [],
   "source": [
    "business_data_2006 = early_business_data.iloc[26:43,0:2]\n",
    "business_data_2006 = business_data_2006.drop([26,27,41])\n",
    "business_data_2006_survival = early_business_data.iloc[26:43,0:10]\n",
    "business_data_2006_survival = business_data_2006_survival.drop([26,27,41])"
   ]
  },
  {
   "cell_type": "code",
   "execution_count": 18,
   "metadata": {},
   "outputs": [],
   "source": [
    "business_data_2005 = early_business_data.iloc[7:24,0:2]\n",
    "business_data_2005 = business_data_2005.drop([7,8,22])\n",
    "business_data_2005_survival = early_business_data.iloc[7:24,0:12]\n",
    "business_data_2005_survival = business_data_2005_survival.drop([7,8,22])"
   ]
  },
  {
   "cell_type": "code",
   "execution_count": 19,
   "metadata": {},
   "outputs": [],
   "source": [
    "business_data_2004 = earliest_business_data.iloc[8:25,0:2]\n",
    "business_data_2004 = business_data_2004.drop([8,9,23])\n",
    "business_data_2004_survival = earliest_business_data.iloc[8:25,0:12]\n",
    "business_data_2004_survival = business_data_2004_survival.drop([8,9,23])"
   ]
  },
  {
   "cell_type": "code",
   "execution_count": 20,
   "metadata": {},
   "outputs": [
    {
     "data": {
      "text/html": [
       "<div>\n",
       "<style scoped>\n",
       "    .dataframe tbody tr th:only-of-type {\n",
       "        vertical-align: middle;\n",
       "    }\n",
       "\n",
       "    .dataframe tbody tr th {\n",
       "        vertical-align: top;\n",
       "    }\n",
       "\n",
       "    .dataframe thead th {\n",
       "        text-align: right;\n",
       "    }\n",
       "</style>\n",
       "<table border=\"1\" class=\"dataframe\">\n",
       "  <thead>\n",
       "    <tr style=\"text-align: right;\">\n",
       "      <th></th>\n",
       "      <th>Business Sector</th>\n",
       "      <th>2004</th>\n",
       "      <th>2005</th>\n",
       "      <th>2006</th>\n",
       "      <th>2007</th>\n",
       "      <th>2008</th>\n",
       "      <th>2009</th>\n",
       "      <th>2010</th>\n",
       "      <th>2011</th>\n",
       "      <th>2012</th>\n",
       "      <th>2013</th>\n",
       "      <th>2014</th>\n",
       "      <th>2015</th>\n",
       "      <th>2016</th>\n",
       "    </tr>\n",
       "  </thead>\n",
       "  <tbody>\n",
       "    <tr>\n",
       "      <th>0</th>\n",
       "      <td>Production</td>\n",
       "      <td>15305</td>\n",
       "      <td>13870</td>\n",
       "      <td>12520</td>\n",
       "      <td>13355</td>\n",
       "      <td>11680</td>\n",
       "      <td>11470</td>\n",
       "      <td>10935</td>\n",
       "      <td>12195</td>\n",
       "      <td>14245</td>\n",
       "      <td>17890</td>\n",
       "      <td>16720</td>\n",
       "      <td>20305</td>\n",
       "      <td>18390</td>\n",
       "    </tr>\n",
       "    <tr>\n",
       "      <th>1</th>\n",
       "      <td>Construction</td>\n",
       "      <td>33440</td>\n",
       "      <td>33540</td>\n",
       "      <td>31995</td>\n",
       "      <td>35715</td>\n",
       "      <td>39315</td>\n",
       "      <td>29245</td>\n",
       "      <td>27425</td>\n",
       "      <td>29820</td>\n",
       "      <td>29215</td>\n",
       "      <td>38295</td>\n",
       "      <td>40930</td>\n",
       "      <td>48740</td>\n",
       "      <td>51615</td>\n",
       "    </tr>\n",
       "    <tr>\n",
       "      <th>2</th>\n",
       "      <td>Motor trades</td>\n",
       "      <td>7530</td>\n",
       "      <td>7305</td>\n",
       "      <td>6540</td>\n",
       "      <td>6780</td>\n",
       "      <td>6140</td>\n",
       "      <td>6005</td>\n",
       "      <td>6165</td>\n",
       "      <td>6360</td>\n",
       "      <td>6325</td>\n",
       "      <td>6925</td>\n",
       "      <td>6700</td>\n",
       "      <td>7190</td>\n",
       "      <td>8550</td>\n",
       "    </tr>\n",
       "    <tr>\n",
       "      <th>3</th>\n",
       "      <td>Wholesale</td>\n",
       "      <td>11165</td>\n",
       "      <td>10415</td>\n",
       "      <td>9395</td>\n",
       "      <td>9565</td>\n",
       "      <td>9805</td>\n",
       "      <td>9670</td>\n",
       "      <td>9850</td>\n",
       "      <td>10100</td>\n",
       "      <td>9895</td>\n",
       "      <td>11830</td>\n",
       "      <td>10640</td>\n",
       "      <td>10415</td>\n",
       "      <td>9825</td>\n",
       "    </tr>\n",
       "    <tr>\n",
       "      <th>4</th>\n",
       "      <td>Retail</td>\n",
       "      <td>27075</td>\n",
       "      <td>26740</td>\n",
       "      <td>23735</td>\n",
       "      <td>23825</td>\n",
       "      <td>22080</td>\n",
       "      <td>21205</td>\n",
       "      <td>22455</td>\n",
       "      <td>22890</td>\n",
       "      <td>22910</td>\n",
       "      <td>27285</td>\n",
       "      <td>23465</td>\n",
       "      <td>23225</td>\n",
       "      <td>27125</td>\n",
       "    </tr>\n",
       "    <tr>\n",
       "      <th>5</th>\n",
       "      <td>Accommodation &amp; food services</td>\n",
       "      <td>27790</td>\n",
       "      <td>27375</td>\n",
       "      <td>24800</td>\n",
       "      <td>25000</td>\n",
       "      <td>21360</td>\n",
       "      <td>19690</td>\n",
       "      <td>17970</td>\n",
       "      <td>19355</td>\n",
       "      <td>20255</td>\n",
       "      <td>25265</td>\n",
       "      <td>23650</td>\n",
       "      <td>24330</td>\n",
       "      <td>25875</td>\n",
       "    </tr>\n",
       "    <tr>\n",
       "      <th>6</th>\n",
       "      <td>Transport &amp; storage (inc. postal)</td>\n",
       "      <td>8450</td>\n",
       "      <td>7910</td>\n",
       "      <td>7210</td>\n",
       "      <td>7635</td>\n",
       "      <td>8310</td>\n",
       "      <td>6980</td>\n",
       "      <td>7495</td>\n",
       "      <td>8105</td>\n",
       "      <td>8690</td>\n",
       "      <td>12330</td>\n",
       "      <td>15560</td>\n",
       "      <td>20500</td>\n",
       "      <td>27400</td>\n",
       "    </tr>\n",
       "    <tr>\n",
       "      <th>7</th>\n",
       "      <td>Information &amp; communication</td>\n",
       "      <td>3800</td>\n",
       "      <td>3660</td>\n",
       "      <td>3110</td>\n",
       "      <td>2745</td>\n",
       "      <td>24675</td>\n",
       "      <td>19060</td>\n",
       "      <td>22860</td>\n",
       "      <td>26435</td>\n",
       "      <td>25610</td>\n",
       "      <td>33535</td>\n",
       "      <td>34105</td>\n",
       "      <td>36785</td>\n",
       "      <td>33625</td>\n",
       "    </tr>\n",
       "    <tr>\n",
       "      <th>10</th>\n",
       "      <td>Education</td>\n",
       "      <td>4175</td>\n",
       "      <td>3670</td>\n",
       "      <td>3085</td>\n",
       "      <td>2770</td>\n",
       "      <td>3030</td>\n",
       "      <td>3485</td>\n",
       "      <td>3200</td>\n",
       "      <td>3275</td>\n",
       "      <td>3460</td>\n",
       "      <td>4700</td>\n",
       "      <td>4665</td>\n",
       "      <td>4805</td>\n",
       "      <td>9475</td>\n",
       "    </tr>\n",
       "    <tr>\n",
       "      <th>11</th>\n",
       "      <td>Health</td>\n",
       "      <td>6560</td>\n",
       "      <td>5855</td>\n",
       "      <td>5885</td>\n",
       "      <td>6720</td>\n",
       "      <td>6625</td>\n",
       "      <td>6885</td>\n",
       "      <td>8550</td>\n",
       "      <td>7840</td>\n",
       "      <td>8560</td>\n",
       "      <td>11740</td>\n",
       "      <td>12045</td>\n",
       "      <td>15360</td>\n",
       "      <td>16500</td>\n",
       "    </tr>\n",
       "    <tr>\n",
       "      <th>8</th>\n",
       "      <td>Finance</td>\n",
       "      <td>3080</td>\n",
       "      <td>2845</td>\n",
       "      <td>2685</td>\n",
       "      <td>2915</td>\n",
       "      <td>NaN</td>\n",
       "      <td>NaN</td>\n",
       "      <td>NaN</td>\n",
       "      <td>NaN</td>\n",
       "      <td>NaN</td>\n",
       "      <td>NaN</td>\n",
       "      <td>NaN</td>\n",
       "      <td>NaN</td>\n",
       "      <td>NaN</td>\n",
       "    </tr>\n",
       "    <tr>\n",
       "      <th>9</th>\n",
       "      <td>Property &amp; business services</td>\n",
       "      <td>109840</td>\n",
       "      <td>111760</td>\n",
       "      <td>106180</td>\n",
       "      <td>124935</td>\n",
       "      <td>NaN</td>\n",
       "      <td>NaN</td>\n",
       "      <td>NaN</td>\n",
       "      <td>NaN</td>\n",
       "      <td>NaN</td>\n",
       "      <td>NaN</td>\n",
       "      <td>NaN</td>\n",
       "      <td>NaN</td>\n",
       "      <td>NaN</td>\n",
       "    </tr>\n",
       "    <tr>\n",
       "      <th>12</th>\n",
       "      <td>Other services</td>\n",
       "      <td>21870</td>\n",
       "      <td>19910</td>\n",
       "      <td>18390</td>\n",
       "      <td>18765</td>\n",
       "      <td>NaN</td>\n",
       "      <td>NaN</td>\n",
       "      <td>NaN</td>\n",
       "      <td>NaN</td>\n",
       "      <td>NaN</td>\n",
       "      <td>NaN</td>\n",
       "      <td>NaN</td>\n",
       "      <td>NaN</td>\n",
       "      <td>NaN</td>\n",
       "    </tr>\n",
       "    <tr>\n",
       "      <th>14</th>\n",
       "      <td>Finance &amp; insurance</td>\n",
       "      <td>NaN</td>\n",
       "      <td>NaN</td>\n",
       "      <td>NaN</td>\n",
       "      <td>NaN</td>\n",
       "      <td>3580</td>\n",
       "      <td>3285</td>\n",
       "      <td>3475</td>\n",
       "      <td>3500</td>\n",
       "      <td>4450</td>\n",
       "      <td>6080</td>\n",
       "      <td>6910</td>\n",
       "      <td>6375</td>\n",
       "      <td>5695</td>\n",
       "    </tr>\n",
       "    <tr>\n",
       "      <th>15</th>\n",
       "      <td>Property</td>\n",
       "      <td>NaN</td>\n",
       "      <td>NaN</td>\n",
       "      <td>NaN</td>\n",
       "      <td>NaN</td>\n",
       "      <td>9900</td>\n",
       "      <td>7920</td>\n",
       "      <td>8220</td>\n",
       "      <td>8050</td>\n",
       "      <td>9200</td>\n",
       "      <td>10510</td>\n",
       "      <td>10745</td>\n",
       "      <td>12960</td>\n",
       "      <td>12685</td>\n",
       "    </tr>\n",
       "    <tr>\n",
       "      <th>16</th>\n",
       "      <td>Professional; scientific &amp; technical</td>\n",
       "      <td>NaN</td>\n",
       "      <td>NaN</td>\n",
       "      <td>NaN</td>\n",
       "      <td>NaN</td>\n",
       "      <td>53505</td>\n",
       "      <td>47645</td>\n",
       "      <td>49335</td>\n",
       "      <td>58535</td>\n",
       "      <td>61315</td>\n",
       "      <td>77080</td>\n",
       "      <td>77820</td>\n",
       "      <td>81100</td>\n",
       "      <td>86265</td>\n",
       "    </tr>\n",
       "    <tr>\n",
       "      <th>17</th>\n",
       "      <td>Business administration and support services</td>\n",
       "      <td>NaN</td>\n",
       "      <td>NaN</td>\n",
       "      <td>NaN</td>\n",
       "      <td>NaN</td>\n",
       "      <td>32920</td>\n",
       "      <td>28595</td>\n",
       "      <td>23685</td>\n",
       "      <td>29150</td>\n",
       "      <td>30125</td>\n",
       "      <td>44725</td>\n",
       "      <td>49125</td>\n",
       "      <td>51450</td>\n",
       "      <td>64075</td>\n",
       "    </tr>\n",
       "    <tr>\n",
       "      <th>18</th>\n",
       "      <td>Arts; entertainment; recreation and other serv...</td>\n",
       "      <td>NaN</td>\n",
       "      <td>NaN</td>\n",
       "      <td>NaN</td>\n",
       "      <td>NaN</td>\n",
       "      <td>14520</td>\n",
       "      <td>14885</td>\n",
       "      <td>13525</td>\n",
       "      <td>15760</td>\n",
       "      <td>14995</td>\n",
       "      <td>18085</td>\n",
       "      <td>17225</td>\n",
       "      <td>19215</td>\n",
       "      <td>16800</td>\n",
       "    </tr>\n",
       "    <tr>\n",
       "      <th>13</th>\n",
       "      <td>Total</td>\n",
       "      <td>280080</td>\n",
       "      <td>274855</td>\n",
       "      <td>255530</td>\n",
       "      <td>280725</td>\n",
       "      <td>267445</td>\n",
       "      <td>236025</td>\n",
       "      <td>235145</td>\n",
       "      <td>261370</td>\n",
       "      <td>269250</td>\n",
       "      <td>346275</td>\n",
       "      <td>350305</td>\n",
       "      <td>382755</td>\n",
       "      <td>413900</td>\n",
       "    </tr>\n",
       "  </tbody>\n",
       "</table>\n",
       "</div>"
      ],
      "text/plain": [
       "                                      Business Sector    2004    2005    2006  \\\n",
       "0                                          Production   15305   13870   12520   \n",
       "1                                        Construction   33440   33540   31995   \n",
       "2                                        Motor trades    7530    7305    6540   \n",
       "3                                           Wholesale   11165   10415    9395   \n",
       "4                                              Retail   27075   26740   23735   \n",
       "5                       Accommodation & food services   27790   27375   24800   \n",
       "6                   Transport & storage (inc. postal)    8450    7910    7210   \n",
       "7                         Information & communication    3800    3660    3110   \n",
       "10                                          Education    4175    3670    3085   \n",
       "11                                             Health    6560    5855    5885   \n",
       "8                                             Finance    3080    2845    2685   \n",
       "9                        Property & business services  109840  111760  106180   \n",
       "12                                     Other services   21870   19910   18390   \n",
       "14                                Finance & insurance     NaN     NaN     NaN   \n",
       "15                                           Property     NaN     NaN     NaN   \n",
       "16               Professional; scientific & technical     NaN     NaN     NaN   \n",
       "17       Business administration and support services     NaN     NaN     NaN   \n",
       "18  Arts; entertainment; recreation and other serv...     NaN     NaN     NaN   \n",
       "13                                              Total  280080  274855  255530   \n",
       "\n",
       "      2007    2008    2009    2010    2011    2012    2013    2014    2015  \\\n",
       "0    13355   11680   11470   10935   12195   14245   17890   16720   20305   \n",
       "1    35715   39315   29245   27425   29820   29215   38295   40930   48740   \n",
       "2     6780    6140    6005    6165    6360    6325    6925    6700    7190   \n",
       "3     9565    9805    9670    9850   10100    9895   11830   10640   10415   \n",
       "4    23825   22080   21205   22455   22890   22910   27285   23465   23225   \n",
       "5    25000   21360   19690   17970   19355   20255   25265   23650   24330   \n",
       "6     7635    8310    6980    7495    8105    8690   12330   15560   20500   \n",
       "7     2745   24675   19060   22860   26435   25610   33535   34105   36785   \n",
       "10    2770    3030    3485    3200    3275    3460    4700    4665    4805   \n",
       "11    6720    6625    6885    8550    7840    8560   11740   12045   15360   \n",
       "8     2915     NaN     NaN     NaN     NaN     NaN     NaN     NaN     NaN   \n",
       "9   124935     NaN     NaN     NaN     NaN     NaN     NaN     NaN     NaN   \n",
       "12   18765     NaN     NaN     NaN     NaN     NaN     NaN     NaN     NaN   \n",
       "14     NaN    3580    3285    3475    3500    4450    6080    6910    6375   \n",
       "15     NaN    9900    7920    8220    8050    9200   10510   10745   12960   \n",
       "16     NaN   53505   47645   49335   58535   61315   77080   77820   81100   \n",
       "17     NaN   32920   28595   23685   29150   30125   44725   49125   51450   \n",
       "18     NaN   14520   14885   13525   15760   14995   18085   17225   19215   \n",
       "13  280725  267445  236025  235145  261370  269250  346275  350305  382755   \n",
       "\n",
       "      2016  \n",
       "0    18390  \n",
       "1    51615  \n",
       "2     8550  \n",
       "3     9825  \n",
       "4    27125  \n",
       "5    25875  \n",
       "6    27400  \n",
       "7    33625  \n",
       "10    9475  \n",
       "11   16500  \n",
       "8      NaN  \n",
       "9      NaN  \n",
       "12     NaN  \n",
       "14    5695  \n",
       "15   12685  \n",
       "16   86265  \n",
       "17   64075  \n",
       "18   16800  \n",
       "13  413900  "
      ]
     },
     "execution_count": 20,
     "metadata": {},
     "output_type": "execute_result"
    }
   ],
   "source": [
    "c_business_data = pd.merge(business_data_2004,business_data_2005,on=\"Business Sector\",how=\"outer\")\n",
    "c_business_data = c_business_data.rename(columns={\"Births_x\":\"2004\",\"Births_y\":\"2005\"})\n",
    "cd_business_data = pd.merge(c_business_data,business_data_2006,on=\"Business Sector\",how=\"outer\")\n",
    "cd_business_data = cd_business_data.rename(columns={\"Births\":\"2006\"})\n",
    "cde_business_data = pd.merge(cd_business_data,business_data_2007,on=\"Business Sector\",how=\"outer\")\n",
    "cde_business_data = cde_business_data.rename(columns={\"Births\":\"2007\"})\n",
    "cdef_business_data = pd.merge(cde_business_data,business_data_2008,on=\"Business Sector\",how=\"outer\")\n",
    "cdef_business_data = cdef_business_data.rename(columns={\"Births\":\"2008\"})\n",
    "cdefg_business_data = pd.merge(cdef_business_data,business_data_2009,on=\"Business Sector\",how=\"outer\")\n",
    "cdefg_business_data = cdefg_business_data.rename(columns={\"Births\":\"2009\"})\n",
    "cdefgh_business_data = pd.merge(cdefg_business_data,business_data_2010,on=\"Business Sector\",how=\"outer\")\n",
    "cdefgh_business_data = cdefgh_business_data.rename(columns={\"Births\":\"2010\"})\n",
    "cdefghi_business_data = pd.merge(cdefgh_business_data,business_data_2011,on=\"Business Sector\",how=\"outer\")\n",
    "cdefghi_business_data = cdefghi_business_data.rename(columns={\"Births\":\"2011\"})\n",
    "cdefghij_business_data = pd.merge(cdefghi_business_data,business_data_2012,on=\"Business Sector\",how=\"outer\")\n",
    "cdefghij_business_data = cdefghij_business_data.rename(columns={\"Births\":\"2012\"})\n",
    "cdefghijk_business_data = pd.merge(cdefghij_business_data,business_data_2013,on=\"Business Sector\",how=\"outer\")\n",
    "cdefghijk_business_data = cdefghijk_business_data.rename(columns={\"Births\":\"2013\"})\n",
    "cdefghijkl_business_data = pd.merge(cdefghijk_business_data,business_data_2014,on=\"Business Sector\",how=\"outer\")\n",
    "cdefghijkl_business_data = cdefghijkl_business_data.rename(columns={\"Births\":\"2014\"})\n",
    "cdefghijklm_business_data = pd.merge(cdefghijkl_business_data,business_data_2015,on=\"Business Sector\",how=\"outer\")\n",
    "cdefghijklm_business_data = cdefghijklm_business_data.rename(columns={\"Births\":\"2015\"})\n",
    "all_business_data = pd.merge(cdefghijklm_business_data,business_data_2016,on=\"Business Sector\",how=\"outer\")\n",
    "all_business_data = all_business_data.rename(columns={\"Births\":\"2016\"})\n",
    "all_business_data.reindex([0,1,2,3,4,5,6,7,10,11,8,9,12,14,15,16,17,18,13])"
   ]
  },
  {
   "cell_type": "code",
   "execution_count": 21,
   "metadata": {},
   "outputs": [
    {
     "data": {
      "text/plain": [
       "([0, 1, 2, 3, 4, 5, 6, 7, 8, 9, 10, 11, 12],\n",
       " <a list of 13 Text xticklabel objects>)"
      ]
     },
     "execution_count": 21,
     "metadata": {},
     "output_type": "execute_result"
    },
    {
     "data": {
      "image/png": "[encoded data removed]",
      "text/plain": [
       "<Figure size 432x288 with 1 Axes>"
      ]
     },
     "metadata": {
      "needs_background": "light"
     },
     "output_type": "display_data"
    }
   ],
   "source": [
    "production_births = pd.DataFrame({\"Production\":all_business_data.iloc[0]})\n",
    "production_births.reset_index(level=0, inplace=True)\n",
    "production_births = production_births.drop([0])\n",
    "production_births\n",
    "plt.plot(production_births[\"index\"],production_births[\"Production\"],marker=\"o\")\n",
    "plt.title(\"Production Births Since 2004\")\n",
    "plt.xlabel(\"Years\")\n",
    "plt.ylabel(\"Production Business Births\")\n",
    "plt.xticks(rotation=45)"
   ]
  },
  {
   "cell_type": "code",
   "execution_count": 24,
   "metadata": {},
   "outputs": [
    {
     "data": {
      "text/plain": [
       "([0, 1, 2, 3, 4, 5, 6, 7, 8, 9, 10, 11, 12],\n",
       " <a list of 13 Text xticklabel objects>)"
      ]
     },
     "execution_count": 24,
     "metadata": {},
     "output_type": "execute_result"
    },
    {
     "data": {
      "image/png": "[encoded data removed]",
      "text/plain": [
       "<Figure size 432x288 with 1 Axes>"
      ]
     },
     "metadata": {
      "needs_background": "light"
     },
     "output_type": "display_data"
    }
   ],
   "source": [
    "construction_births = pd.DataFrame({\"Construction\":all_business_data.iloc[1]})\n",
    "construction_births.reset_index(level=0, inplace=True)\n",
    "construction_births = construction_births.drop([0])\n",
    "construction_births\n",
    "plt.plot(construction_births[\"index\"],construction_births[\"Construction\"],marker=\"o\")\n",
    "plt.title(\"Construction Births Since 2004\")\n",
    "plt.xlabel(\"Years\")\n",
    "plt.ylabel(\"Construction Business Births\")\n",
    "plt.xticks(rotation=45)"
   ]
  },
  {
   "cell_type": "code",
   "execution_count": 25,
   "metadata": {},
   "outputs": [
    {
     "data": {
      "text/plain": [
       "([0, 1, 2, 3, 4, 5, 6, 7, 8, 9, 10, 11, 12],\n",
       " <a list of 13 Text xticklabel objects>)"
      ]
     },
     "execution_count": 25,
     "metadata": {},
     "output_type": "execute_result"
    },
    {
     "data": {
      "image/png": "[encoded data removed]",
      "text/plain": [
       "<Figure size 432x288 with 1 Axes>"
      ]
     },
     "metadata": {
      "needs_background": "light"
     },
     "output_type": "display_data"
    }
   ],
   "source": [
    "education_births = pd.DataFrame({\"Education\":all_business_data.iloc[10]})\n",
    "education_births.reset_index(level=0, inplace=True)\n",
    "education_births = education_births.drop([0])\n",
    "education_births\n",
    "plt.plot(education_births[\"index\"],education_births[\"Education\"],marker=\"o\")\n",
    "plt.title(\"Education Births Since 2004\")\n",
    "plt.xlabel(\"Years\")\n",
    "plt.ylabel(\"Education Business Births\")\n",
    "plt.xticks(rotation=45)"
   ]
  },
  {
   "cell_type": "code",
   "execution_count": 26,
   "metadata": {},
   "outputs": [
    {
     "data": {
      "text/plain": [
       "([0, 1, 2, 3, 4, 5, 6, 7, 8, 9, 10, 11, 12],\n",
       " <a list of 13 Text xticklabel objects>)"
      ]
     },
     "execution_count": 26,
     "metadata": {},
     "output_type": "execute_result"
    },
    {
     "data": {
      "image/png": "[encoded data removed]",
      "text/plain": [
       "<Figure size 432x288 with 1 Axes>"
      ]
     },
     "metadata": {
      "needs_background": "light"
     },
     "output_type": "display_data"
    }
   ],
   "source": [
    "health_births = pd.DataFrame({\"Health\":all_business_data.iloc[11]})\n",
    "health_births.reset_index(level=0, inplace=True)\n",
    "health_births = health_births.drop([0])\n",
    "health_births\n",
    "plt.plot(health_births[\"index\"],health_births[\"Health\"],marker=\"o\")\n",
    "plt.title(\"Health Births Since 2004\")\n",
    "plt.xlabel(\"Years\")\n",
    "plt.ylabel(\"Health Business Births\")\n",
    "plt.xticks(rotation=45)"
   ]
  },
  {
   "cell_type": "code",
   "execution_count": 27,
   "metadata": {},
   "outputs": [
    {
     "data": {
      "text/plain": [
       "([0, 1, 2, 3, 4, 5, 6, 7, 8, 9, 10, 11, 12],\n",
       " <a list of 13 Text xticklabel objects>)"
      ]
     },
     "execution_count": 27,
     "metadata": {},
     "output_type": "execute_result"
    },
    {
     "data": {
      "image/png": "[encoded data removed]",
      "text/plain": [
       "<Figure size 432x288 with 1 Axes>"
      ]
     },
     "metadata": {
      "needs_background": "light"
     },
     "output_type": "display_data"
    }
   ],
   "source": [
    "total_births = pd.DataFrame({\"Total\":all_business_data.iloc[13]})\n",
    "total_births.reset_index(level=0, inplace=True)\n",
    "total_births = total_births.drop([0])\n",
    "total_births\n",
    "plt.plot(total_births[\"index\"],total_births[\"Total\"],marker=\"o\")\n",
    "plt.title(\"Total Births Since 2004\")\n",
    "plt.xlabel(\"Years\")\n",
    "plt.ylabel(\"Total Business Births\")\n",
    "plt.xticks(rotation=45)"
   ]
  },
  {
   "cell_type": "code",
   "execution_count": null,
   "metadata": {},
   "outputs": [],
   "source": []
  }
 ],
 "metadata": {
  "kernelspec": {
   "display_name": "Python 3",
   "language": "python",
   "name": "python3"
  },
  "language_info": {
   "codemirror_mode": {
    "name": "ipython",
    "version": 3
   },
   "file_extension": ".py",
   "mimetype": "text/x-python",
   "name": "python",
   "nbconvert_exporter": "python",
   "pygments_lexer": "ipython3",
   "version": "3.7.1"
  }
 },
 "nbformat": 4,
 "nbformat_minor": 2
}
